{
 "cells": [
  {
   "cell_type": "code",
   "execution_count": 24,
   "metadata": {},
   "outputs": [],
   "source": [
    "import numpy as np\n",
    "additionalCosts = np.array([\"Biopsy\", \"AE\", \"Admin\", \"Concat\"])\n",
    "biopsyCost  = 22\n",
    "aeCost = 15\n",
    "adminCost = 33\n",
    "concatCost = 40"
   ]
  },
  {
   "cell_type": "code",
   "execution_count": 28,
   "metadata": {
    "collapsed": true
   },
   "outputs": [],
   "source": [
    "## Parameters of dosing in Induction phase\n",
    "indFreq = 2\n",
    "indCycleLength = 8\n",
    "indDuration = 12 ##which is number of cycles in that phase\n",
    "indDose = 77\n",
    "\n",
    "## Parameters of dosing in Maintenance phase\n",
    "mainFreq = 3\n",
    "mainCycleLength = 12\n",
    "mainDuration = 15 ##which is number of cycles in that phase\n",
    "mainDose = 111 "
   ]
  },
  {
   "cell_type": "code",
   "execution_count": 29,
   "metadata": {},
   "outputs": [
    {
     "data": {
      "text/plain": [
       "array([ 22.,   0.,   0.,   0.,   0.,   0.,   0.,   0.,  22.,   0.,   0.,\n",
       "         0.,   0.,   0.,   0.,   0.,  22.,   0.,   0.,   0.,   0.,   0.,\n",
       "         0.,   0.,  22.,   0.,   0.,   0.,   0.,   0.,   0.,   0.,  22.,\n",
       "         0.,   0.,   0.,   0.,   0.,   0.,   0.,  22.,   0.,   0.,   0.,\n",
       "         0.,   0.,   0.,   0.,  22.,   0.,   0.,   0.,   0.,   0.,   0.,\n",
       "         0.,  22.,   0.,   0.,   0.,   0.,   0.,   0.,   0.,  22.,   0.,\n",
       "         0.,   0.,   0.,   0.,   0.,   0.,  22.,   0.,   0.,   0.,   0.,\n",
       "         0.,   0.,   0.,  22.,   0.,   0.,   0.,   0.,   0.,   0.,   0.,\n",
       "        22.,   0.,   0.,   0.,   0.,   0.,   0.,   0.])"
      ]
     },
     "execution_count": 29,
     "metadata": {},
     "output_type": "execute_result"
    }
   ],
   "source": [
    "#Biopsy costs are per cycle\n",
    "drugCost = np.zeros((indCycleLength*indDuration))\n",
    "biopsyCostCalendar = np.copy(drugCost)\n",
    "biopsyCostCalendar[0: :indCycleLength] = biopsyCost\n",
    "biopsyCostCalendar"
   ]
  },
  {
   "cell_type": "code",
   "execution_count": 30,
   "metadata": {},
   "outputs": [
    {
     "data": {
      "text/plain": [
       "array([ 15.,   0.,   0.,   0.,   0.,   0.,   0.,  15.,   0.,   0.,   0.,\n",
       "         0.,   0.,   0.,  15.,   0.,   0.,   0.,   0.,   0.,   0.,  15.,\n",
       "         0.,   0.,   0.,   0.,   0.,   0.,  15.,   0.,   0.,   0.,   0.,\n",
       "         0.,   0.,  15.,   0.,   0.,   0.,   0.,   0.,   0.,  15.,   0.,\n",
       "         0.,   0.,   0.,   0.,   0.,  15.,   0.,   0.,   0.,   0.,   0.,\n",
       "         0.,  15.,   0.,   0.,   0.,   0.,   0.,   0.,  15.,   0.,   0.,\n",
       "         0.,   0.,   0.,   0.,  15.,   0.,   0.,   0.,   0.,   0.,   0.,\n",
       "        15.,   0.,   0.,   0.,   0.,   0.,   0.,  15.,   0.,   0.,   0.,\n",
       "         0.,   0.,   0.,  15.,   0.,   0.,   0.,   0.])"
      ]
     },
     "execution_count": 30,
     "metadata": {},
     "output_type": "execute_result"
    }
   ],
   "source": [
    "#aeCost are per week\n",
    "aeCostCalendar = np.copy(drugCost)\n",
    "aeCostCalendar[0: :7] = aeCost\n",
    "aeCostCalendar"
   ]
  },
  {
   "cell_type": "code",
   "execution_count": 50,
   "metadata": {},
   "outputs": [
    {
     "data": {
      "text/plain": [
       "array([ 33.,   0.,   0.,   0.,   0.,   0.,   0.,   0.,   0.,   0.,   0.,\n",
       "         0.,   0.,   0.,   0.,   0.,   0.,   0.,   0.,   0.,   0.,   0.,\n",
       "         0.,   0.,   0.,   0.,   0.,   0.,   0.,   0.,   0.,  33.,   0.,\n",
       "         0.,   0.,   0.,   0.,   0.,   0.,   0.,   0.,   0.,   0.,   0.,\n",
       "         0.,   0.,   0.,   0.,   0.,   0.,   0.,   0.,   0.,   0.,   0.,\n",
       "         0.,   0.,   0.,   0.,  33.,   0.,   0.,   0.,   0.,   0.,   0.,\n",
       "         0.,   0.,   0.,   0.,   0.,   0.,   0.,   0.,   0.,   0.,   0.,\n",
       "         0.,   0.,   0.,   0.,   0.,   0.,   0.,   0.,   0.,   0.,   0.,\n",
       "         0.,   0.,  33.,   0.,   0.,   0.,   0.,   0.])"
      ]
     },
     "execution_count": 50,
     "metadata": {},
     "output_type": "execute_result"
    }
   ],
   "source": [
    "#Admin cost are per month\n",
    "daysInMonth = np.array([0,31,59,90,120,151,181,212,243,273,304,334,365,396,424,455,485,516,546,577,608,638,669,699,730,761,789,820,850,881,911,942,973,1003,1034,1064,1095,1126,1154,1185,1215,1246,1276,1307,1338,1368,1399,1429,1460,1491,1519,1550,1580,1611,1641,1672,1703,1733,1764,1794])\n",
    "adminCostCalendar = np.copy(drugCost)\n",
    "np.put(adminCostCalendar, daysInMonth[daysInMonth<indCycleLength*indDuration], adminCost)\n",
    "adminCostCalendar"
   ]
  },
  {
   "cell_type": "code",
   "execution_count": 53,
   "metadata": {},
   "outputs": [
    {
     "data": {
      "text/plain": [
       "array([[[ 0.,  0.,  0.,  0.],\n",
       "        [ 0.,  0.,  0.,  0.],\n",
       "        [ 0.,  0.,  0.,  0.]],\n",
       "\n",
       "       [[ 0.,  0.,  0.,  0.],\n",
       "        [ 0.,  0.,  0.,  0.],\n",
       "        [ 0.,  0.,  0.,  0.]]])"
      ]
     },
     "execution_count": 53,
     "metadata": {},
     "output_type": "execute_result"
    }
   ],
   "source": [
    "np.zeros((2,3,4))"
   ]
  },
  {
   "cell_type": "code",
   "execution_count": null,
   "metadata": {
    "collapsed": true
   },
   "outputs": [],
   "source": []
  }
 ],
 "metadata": {
  "kernelspec": {
   "display_name": "Python 3",
   "language": "python",
   "name": "python3"
  },
  "language_info": {
   "codemirror_mode": {
    "name": "ipython",
    "version": 3
   },
   "file_extension": ".py",
   "mimetype": "text/x-python",
   "name": "python",
   "nbconvert_exporter": "python",
   "pygments_lexer": "ipython3",
   "version": "3.6.2"
  }
 },
 "nbformat": 4,
 "nbformat_minor": 2
}
