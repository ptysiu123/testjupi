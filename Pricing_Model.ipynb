{
 "cells": [
  {
   "cell_type": "markdown",
   "metadata": {},
   "source": [
    "<h3>Pricing Model</h3>\n",
    "\n",
    "<h4>Description</h4>\n",
    "\n",
    "Pricing Model calculates a Net Price of a Product Presentation selected in the Adaptation in a particular year of a Time Horizon. Price of a Product Presentation is time dependent. Net Price of a Product Presentation in the First Year of a Time Horizon is dependent on ..... and in following years the Net Price of a Product Presentation is dependent on ....."
   ]
  },
  {
   "cell_type": "markdown",
   "metadata": {
    "collapsed": true
   },
   "source": [
    "<h4>Model characteristics</h4>\n",
    "\n",
    "<html>\n",
    "<head>\n",
    "<style>\n",
    "table {\n",
    "    font-family: arial, sans-serif;\n",
    "    border-collapse: collapse;\n",
    "    width: 100%;\n",
    "}\n",
    "\n",
    "td, th {\n",
    "    border: 1px solid #dddddd;\n",
    "    text-align: left;\n",
    "    padding: 8px;\n",
    "}\n",
    "\n",
    "tr:nth-child(even) {\n",
    "    background-color: #dddddd;\n",
    "}\n",
    "</style>\n",
    "</head>\n",
    "<body>\n",
    "<table width = 100%>\n",
    "  <tr>\n",
    "    <th width  = 5% style = \"text-align : center\">Symbol</th>\n",
    "    <th width = 55% style = \"text-align : left\">Description</th>\n",
    "    <th width = 40% style = \"text-align : center\">Values</th>\n",
    "  </tr>\n",
    "  <tr>\n",
    "    <td style = \"text-align : center\">$TH$</td>\n",
    "    <td style = \"text-align : left\">Time Horizon of an Adaptation</td>\n",
    "    <td style = \"text-align : center\">$TH = \\{0, 1, 2, 3, 4\\} $</td>\n",
    "  </tr>\n",
    "  <tr>\n",
    "    <td style = \"text-align : center\">$yx$</td>\n",
    "    <td style = \"text-align : left\">A year $x$ of an adaptation from a Time Horizon $TH$</td>\n",
    "    <td style = \"text-align : center\">$ x = \\{0, 1, 2, 3, 4\\} $</td>\n",
    "  </tr>\n",
    "  <tr>\n",
    "    <td style = \"text-align : center\">$NP_{yx}$</td>\n",
    "    <td style = \"text-align : left\">Net Price of a Product Presentation in a year $x$ of a Time Horizon $TH$</td>\n",
    "    <td style = \"text-align : center\">$ NP_{yx} = \\{np : np \\in \\mathbb{N} \\wedge 0^{-2} > p \\leqslant 100000^{-2}\\} $</td>\n",
    "  </tr>\n",
    "  <tr>\n",
    "    <td style = \"text-align : center\">$CP_{yx}$</td>\n",
    "    <td style = \"text-align : left\">Change of Price of a Product Presentation in a year $x$ of a Time Horizon $TH$</td>\n",
    "    <td style = \"text-align : center\">$ CP_{yx} = \\{cp : cp \\in \\mathbb{C} \\wedge -100 > cp \\leqslant 100\\} $</td>\n",
    "  </tr>\n",
    "  <tr>\n",
    "    <td style = \"text-align : center\">$Dis$</td>\n",
    "    <td style = \"text-align : left\">Discount value of a Prodcut Presentation in the Adaptation.</td>\n",
    "    <td style = \"text-align : center\">$ Dis = \\{dis : dis \\in \\mathbb{C} \\wedge 0 > cp \\leqslant 100\\} $</td>\n",
    "  </tr>\n",
    "  <tr>\n",
    "    <td style = \"text-align : center\">$LP$</td>\n",
    "    <td style = \"text-align : left\">List Price of a Product Presentation in the Adaptation</td>\n",
    "    <td style = \"text-align : center\">$ LP = \\{lp : lp \\in \\mathbb{N} \\wedge 0^{-2} > lp \\leqslant 100000^{-2}\\} $</td>\n",
    "  </tr>\n",
    "</table>\n",
    "\n",
    "</body>\n",
    "</html>"
   ]
  },
  {
   "cell_type": "markdown",
   "metadata": {},
   "source": [
    "<h4>Constratints</h4>\n",
    "\n",
    "1. $ x \\leqslant TH $ - value of a year $x$ of a Time Horizon can not be higher then the value of a Time Horizon "
   ]
  },
  {
   "cell_type": "markdown",
   "metadata": {},
   "source": [
    "<h4>Equations</h4>\n",
    "\n",
    "\\begin{equation*}\n",
    "NP_{yx} = \\Bigg\\{\n",
    "\\begin{split}\n",
    "& LP \\times (1+\\frac{Dis}{100}) \\quad & if \\quad x = 0\\\\ \n",
    "& NP_{y(x-1)} \\times (1+\\frac{CP_{yx}}{100}) \\quad & if \\quad x > 0\n",
    "\\end{split}\n",
    "\\end{equation*}"
   ]
  },
  {
   "cell_type": "code",
   "execution_count": 4,
   "metadata": {},
   "outputs": [
    {
     "data": {
      "application/vnd.jupyter.widget-view+json": {
       "model_id": "7fefda6bcd6e4c4a96f88e05fc3c6bc6",
       "version_major": 2,
       "version_minor": 0
      },
      "text/plain": [
       "A Jupyter Widget"
      ]
     },
     "metadata": {},
     "output_type": "display_data"
    }
   ],
   "source": [
    "from ipywidgets import Layout, Button, Box, VBox, Text, Label, HBox\n",
    "from IPython.display import Latex\n",
    "import numpy as np\n",
    "\n",
    "# Items for Change Price\n",
    "items_change_price_Labels = [\n",
    "    Label(\"List price\", layout=Layout(flex='1 1 auto', width='20%')),\n",
    "    Label(\"Discount\", layout=Layout(flex='1 1 auto', width='15%')),\n",
    "    Label(\"Change Price \" + '\\\\(NP_{y1}\\\\)', layout=Layout(flex='1 1 auto', width='15%')),\n",
    "    Label(\"Change Price \" + '\\\\(NP_{y2}\\\\)', layout=Layout(flex='1 1 auto', width='15%')),\n",
    "    Label(\"Change Price \" + '\\\\(NP_{y3}\\\\)', layout=Layout(flex='1 1 auto', width='15%')),\n",
    "    Label(\"Change Price \" + '\\\\(NP_{y4}\\\\)', layout=Layout(flex='1 1 auto', width='15%')) \n",
    " ]\n",
    "\n",
    "items_change_price_Text = [\n",
    "    Text(layout=Layout(flex='1 1 auto', width='20%')),\n",
    "    Text(layout=Layout(flex='1 1 auto', width='15%')),\n",
    "    Text(layout=Layout(flex='1 1 auto', width='15%')),\n",
    "    Text(layout=Layout(flex='1 1 auto', width='15%')),\n",
    "    Text(layout=Layout(flex='1 1 auto', width='15%')),\n",
    "    Text(layout=Layout(flex='1 1 auto', width='15%'))\n",
    " ]\n",
    "\n",
    "items_Button = [\n",
    "    Button(description = \"Calculate\", layout=Layout(flex='1 1 auto', width='20%'),\n",
    "          button_style='info')\n",
    " ]\n",
    "\n",
    "inputValues = np.zeros(6)\n",
    "\n",
    "def on_button_clicked(b):\n",
    "    for i in range(len(items_change_price_Text)):\n",
    "        inputValues[i] = float(items_change_price_Text[i].value)\n",
    "    listPrice = float(items_change_price_Text[0].value)\n",
    "    changePrice = int(items_change_price_Text[1].value)\n",
    "    inputValues[1] = round(listPrice * (1 + (changePrice / 100)), 2)\n",
    "    inputValues[2::] = (inputValues[2::]+100)/100\n",
    "    inputValues[1::] = inputValues[1::].cumprod()\n",
    "    for i in range(len(inputValues)-1):\n",
    "        #items_result_Labels[i].value = items_result_Labels[i].value.split(\":\")\n",
    "        items_result_Labels[i].value = items_result_Labels[i].value + \": \" + str(round(inputValues[i+1],2))   \n",
    "\n",
    "\n",
    "\n",
    "items_Button[0].on_click(on_button_clicked)\n",
    "\n",
    "items_result_Labels = [\n",
    "    Label(value='\\\\(NP_{y0}\\\\)', layout=Layout(flex='1 1 auto', width='20%')),\n",
    "    Label(value='\\\\(NP_{y1}\\\\)', layout=Layout(flex='1 1 auto', width='20%')),\n",
    "    Label(value='\\\\(NP_{y2}\\\\)', layout=Layout(flex='1 1 auto', width='20%')),\n",
    "    Label(value='\\\\(NP_{y3}\\\\)', layout=Layout(flex='1 1 auto', width='20%')),\n",
    "    Label(value='\\\\(NP_{y4}\\\\)', layout=Layout(flex='1 1 auto', width='20%'))\n",
    " ]\n",
    "\n",
    "box_layout = Layout(display='flex',\n",
    "                    flex_flow='row',\n",
    "                    align_items='stretch')\n",
    "\n",
    "box_layoutV = Layout(display='flex',\n",
    "                    flex_flow='column',\n",
    "                    align_items='stretch')\n",
    "\n",
    "box_button_layout = Layout(display='flex',\n",
    "                    flex_flow='column')\n",
    "\n",
    "\n",
    "boxLabels = Box(children = items_change_price_Labels, layout = box_layout)\n",
    "boxText = Box(children = items_change_price_Text, layout = box_layout)\n",
    "boxButton = Box(children = items_Button, layout = box_button_layout)\n",
    "boxResultLabels = Box(children = items_result_Labels, layout = box_button_layout)\n",
    "\n",
    "Box(children = [boxLabels, boxText, boxButton, boxResultLabels], layout = box_layoutV)\n"
   ]
  },
  {
   "cell_type": "code",
   "execution_count": null,
   "metadata": {
    "collapsed": true
   },
   "outputs": [],
   "source": []
  }
 ],
 "metadata": {
  "kernelspec": {
   "display_name": "Python 3",
   "language": "python",
   "name": "python3"
  },
  "language_info": {
   "codemirror_mode": {
    "name": "ipython",
    "version": 3
   },
   "file_extension": ".py",
   "mimetype": "text/x-python",
   "name": "python",
   "nbconvert_exporter": "python",
   "pygments_lexer": "ipython3",
   "version": "3.6.2"
  }
 },
 "nbformat": 4,
 "nbformat_minor": 2
}
